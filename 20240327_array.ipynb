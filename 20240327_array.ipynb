{
 "cells": [
  {
   "cell_type": "code",
   "execution_count": null,
   "metadata": {},
   "outputs": [],
   "source": [
    "# I use sliding window\n",
    "\n",
    "def getSubstring(input_str, k):\n",
    "    n = len(input_str)\n",
    "    left = right = count_of_one = 0\n",
    "    best_start = -1\n",
    "    best_end = right\n",
    "    min_len = float('inf')\n",
    "    \n",
    "    while right < n:\n",
    "        if input_str[right] == '1':\n",
    "            count_of_one += 1\n",
    "        \n",
    "        while count_of_one == k:\n",
    "            cur_str = input_str[left: right + 1]\n",
    "            if int(cur_str) < min_len:\n",
    "                min_len = int(cur_str)\n",
    "                best_start = left\n",
    "                best_end = right\n",
    "            \n",
    "            if input_str[left] == '1':\n",
    "                count_of_one -= 1\n",
    "            left += 1\n",
    "        \n",
    "        right += 1\n",
    "    \n",
    "    return input_str[best_start:best_end + 1].lstrip('0')"
   ]
  }
 ],
 "metadata": {
  "language_info": {
   "name": "python"
  }
 },
 "nbformat": 4,
 "nbformat_minor": 2
}

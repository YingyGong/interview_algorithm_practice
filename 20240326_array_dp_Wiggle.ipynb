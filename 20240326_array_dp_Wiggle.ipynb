{
 "cells": [
  {
   "cell_type": "code",
   "execution_count": null,
   "metadata": {},
   "outputs": [],
   "source": [
    "# sol to the original question I encountered\n",
    "def solution(A):\n",
    "    n = len(A)\n",
    "    # edge cases for array length 1 and 2\n",
    "    if n == 1:\n",
    "        return 0\n",
    "    if n == 2:\n",
    "        return 0 if A[0] != A[1] else 1\n",
    "    # count the number of valleys in even and odd positions\n",
    "    # initialize all to be 0\n",
    "    even_v = 0\n",
    "    odd_v = 0\n",
    "\n",
    "    # set 1st position\n",
    "    if A[0] < A[1]:\n",
    "        even_v += 1\n",
    "\n",
    "    for i in range(1, n-1):\n",
    "        # if the current tree is a valley\n",
    "        if A[i] < A[i-1] and A[i] < A[i+1]:\n",
    "            if i % 2 == 0:\n",
    "                even_v += 1\n",
    "            else:\n",
    "                odd_v += 1\n",
    "\n",
    "    # set last position\n",
    "    if A[-1] < A[-2]:\n",
    "        if (n - 1) % 2 == 0:\n",
    "            even_v += 1\n",
    "        else:\n",
    "            odd_v += 1\n",
    "    \n",
    "    # adjust if the length of array is odd\n",
    "    # odd -> 1 more even position than the odd\n",
    "    if n % 2 == 1:\n",
    "        even_v -= 0.5\n",
    "        odd_v += 0.5\n",
    "\n",
    "    return int(n / 2 - max(even_v, odd_v))"
   ]
  },
  {
   "cell_type": "markdown",
   "metadata": {},
   "source": [
    "I tried to use dynamic programming first, but my codes don't handle the case [1, 1, 1] correctly"
   ]
  },
  {
   "cell_type": "code",
   "execution_count": null,
   "metadata": {},
   "outputs": [],
   "source": [
    "def solution(A):\n",
    "    N = len(A)\n",
    "    if N == 1:\n",
    "        return 0\n",
    "    if N == 2:\n",
    "        return 1 if A[0] != A[1] else 0\n",
    "    \n",
    "    # Arrays for dynamic programming\n",
    "    increase = [0] * N  # modifications needed if this tree is in the increasing sequence\n",
    "    decrease = [0] * N  # modifications needed if this tree is in the decreasing sequence\n",
    "\n",
    "    # Initialize the second tree\n",
    "    if A[1] < A[0]:\n",
    "        increase[1] = 1\n",
    "        decrease[0] = 1\n",
    "    elif A[1] > A[0]:\n",
    "        decrease[1] = 1\n",
    "        increase[0] = 1\n",
    "    else:\n",
    "        increase[1] = 1\n",
    "        decrease[1] = 1\n",
    "        increase[0] = 1\n",
    "        decrease[0] = 1\n",
    "\n",
    "    for i in range(2, N):\n",
    "        if A[i] > A[i-1]:\n",
    "            increase[i] = max(increase[i-2], decrease[i-1])\n",
    "            decrease[i] = decrease[i-2] + 1  # If the current tree is shorter, increment the modifications needed by 1\n",
    "        \n",
    "        if A[i] < A[i-1]:\n",
    "            decrease[i] = max(decrease[i-2], increase[i-1])\n",
    "            increase[i] = increase[i-2] + 1\n",
    "        \n",
    "        # both options carry over the minimum modifications from the previous step + 1\n",
    "        if A[i] == A[i-1]:\n",
    "            increase[i] = increase[i-2] + 1\n",
    "            decrease[i] = decrease[i-2] + 1\n",
    "\n",
    "    # The minimum number of modifications needed is the best ending option\n",
    "    return min(increase[-1], decrease[-1])"
   ]
  },
  {
   "cell_type": "markdown",
   "metadata": {},
   "source": [
    "further questions: leetcode 280, 324, 75"
   ]
  },
  {
   "cell_type": "code",
   "execution_count": null,
   "metadata": {},
   "outputs": [],
   "source": []
  }
 ],
 "metadata": {
  "language_info": {
   "name": "python"
  }
 },
 "nbformat": 4,
 "nbformat_minor": 2
}
